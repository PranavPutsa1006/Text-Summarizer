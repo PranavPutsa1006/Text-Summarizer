{
  "nbformat": 4,
  "nbformat_minor": 0,
  "metadata": {
    "colab": {
      "name": "Text summarizer.ipynb",
      "provenance": [],
      "authorship_tag": "ABX9TyNOgQ7kCgGeji1A55UoLtcs",
      "include_colab_link": true
    },
    "kernelspec": {
      "name": "python3",
      "display_name": "Python 3"
    }
  },
  "cells": [
    {
      "cell_type": "markdown",
      "metadata": {
        "id": "view-in-github",
        "colab_type": "text"
      },
      "source": [
        "<a href=\"https://colab.research.google.com/github/PranavPutsa1006/Text-Summarizer/blob/main/Text_summarizer.ipynb\" target=\"_parent\"><img src=\"https://colab.research.google.com/assets/colab-badge.svg\" alt=\"Open In Colab\"/></a>"
      ]
    },
    {
      "cell_type": "code",
      "metadata": {
        "colab": {
          "base_uri": "https://localhost:8080/"
        },
        "id": "1XY8Rjqt9HpS",
        "outputId": "a4c989d9-2f6b-46d0-a897-5505924658a4"
      },
      "source": [
        "!pip install html2text\r\n",
        "!pip install wikipedia\r\n",
        "!pip install cloudmersive_validate_api_client"
      ],
      "execution_count": 6,
      "outputs": [
        {
          "output_type": "stream",
          "text": [
            "Requirement already satisfied: html2text in /usr/local/lib/python3.6/dist-packages (2020.1.16)\n",
            "Requirement already satisfied: wikipedia in /usr/local/lib/python3.6/dist-packages (1.4.0)\n",
            "Requirement already satisfied: beautifulsoup4 in /usr/local/lib/python3.6/dist-packages (from wikipedia) (4.6.3)\n",
            "Requirement already satisfied: requests<3.0.0,>=2.0.0 in /usr/local/lib/python3.6/dist-packages (from wikipedia) (2.23.0)\n",
            "Requirement already satisfied: idna<3,>=2.5 in /usr/local/lib/python3.6/dist-packages (from requests<3.0.0,>=2.0.0->wikipedia) (2.10)\n",
            "Requirement already satisfied: certifi>=2017.4.17 in /usr/local/lib/python3.6/dist-packages (from requests<3.0.0,>=2.0.0->wikipedia) (2020.12.5)\n",
            "Requirement already satisfied: chardet<4,>=3.0.2 in /usr/local/lib/python3.6/dist-packages (from requests<3.0.0,>=2.0.0->wikipedia) (3.0.4)\n",
            "Requirement already satisfied: urllib3!=1.25.0,!=1.25.1,<1.26,>=1.21.1 in /usr/local/lib/python3.6/dist-packages (from requests<3.0.0,>=2.0.0->wikipedia) (1.24.3)\n",
            "Collecting cloudmersive_validate_api_client\n",
            "\u001b[?25l  Downloading https://files.pythonhosted.org/packages/a6/d8/a14ff57756bbf88825f0e75820e3205dd2d2216dcf1dd188ae68a11b8745/cloudmersive_validate_api_client-3.1.1.tar.gz (69kB)\n",
            "\u001b[K     |████████████████████████████████| 71kB 5.9MB/s \n",
            "\u001b[?25hRequirement already satisfied: certifi>=2017.4.17 in /usr/local/lib/python3.6/dist-packages (from cloudmersive_validate_api_client) (2020.12.5)\n",
            "Requirement already satisfied: python-dateutil>=2.1 in /usr/local/lib/python3.6/dist-packages (from cloudmersive_validate_api_client) (2.8.1)\n",
            "Requirement already satisfied: six>=1.10 in /usr/local/lib/python3.6/dist-packages (from cloudmersive_validate_api_client) (1.15.0)\n",
            "Requirement already satisfied: urllib3>=1.23 in /usr/local/lib/python3.6/dist-packages (from cloudmersive_validate_api_client) (1.24.3)\n",
            "Building wheels for collected packages: cloudmersive-validate-api-client\n",
            "  Building wheel for cloudmersive-validate-api-client (setup.py) ... \u001b[?25l\u001b[?25hdone\n",
            "  Created wheel for cloudmersive-validate-api-client: filename=cloudmersive_validate_api_client-3.1.1-cp36-none-any.whl size=204031 sha256=4f91ea4645ce96ca3ef44178c24c57d5e76dcb74dbf7fd98ad1eccf067cff26c\n",
            "  Stored in directory: /root/.cache/pip/wheels/2e/df/a6/cd18b53b6960a223e9fd3521219414db157b67de14245445bb\n",
            "Successfully built cloudmersive-validate-api-client\n",
            "Installing collected packages: cloudmersive-validate-api-client\n",
            "Successfully installed cloudmersive-validate-api-client-3.1.1\n"
          ],
          "name": "stdout"
        }
      ]
    },
    {
      "cell_type": "code",
      "metadata": {
        "colab": {
          "base_uri": "https://localhost:8080/"
        },
        "id": "emVxSWlf8lZS",
        "outputId": "413753ea-6ac2-452a-9c7c-9e9ab89e2e10"
      },
      "source": [
        "import urllib.request\r\n",
        "import nltk\r\n",
        "nltk.download('stopwords')\r\n",
        "from nltk.corpus import stopwords\r\n",
        "from nltk.cluster.util import cosine_distance\r\n",
        "import numpy as np\r\n",
        "import networkx as nx\r\n",
        "import html2text\r\n",
        "import os\r\n",
        "import wikipedia\r\n",
        "import cloudmersive_validate_api_client\r\n",
        "from cloudmersive_validate_api_client.rest import ApiException\r\n",
        "\r\n",
        "\r\n",
        "def wiki(input_gideon):\r\n",
        "    if 'wikipedia' in input_gideon:\r\n",
        "        statement = input_gideon.replace(\"wikipedia \", \"\")\r\n",
        "        try:\r\n",
        "            results = wikipedia.summary(statement, sentences=10)\r\n",
        "            print(\"According to Wikipedia, \"+results)\r\n",
        "            return results\r\n",
        "        except:\r\n",
        "            print(\"Could not find anything about \"+statement)\r\n",
        "\r\n",
        "\r\n",
        "def read_article(file_name):\r\n",
        "    file = open(file_name, \"r+\")\r\n",
        "    filedata = file.readlines()\r\n",
        "    print(filedata)\r\n",
        "    article = filedata[0].split(\". \")\r\n",
        "    sentences = []\r\n",
        "\r\n",
        "    for sentence in article:\r\n",
        "        print(sentence)\r\n",
        "        sentences.append(sentence.replace(\"[^a-zA-Z]\", \" \").split(\" \"))\r\n",
        "    sentences.pop()\r\n",
        "\r\n",
        "    return sentences\r\n",
        "\r\n",
        "\r\n",
        "def sentence_similarity(sent1, sent2, stopwords=None):\r\n",
        "    if stopwords is None:\r\n",
        "        stopwords = []\r\n",
        "\r\n",
        "    sent1 = [w.lower() for w in sent1]\r\n",
        "    sent2 = [w.lower() for w in sent2]\r\n",
        "\r\n",
        "    all_words = list(set(sent1 + sent2))\r\n",
        "\r\n",
        "    vector1 = [0] * len(all_words)\r\n",
        "    vector2 = [0] * len(all_words)\r\n",
        "\r\n",
        "    # build the vector for the first sentence\r\n",
        "    for w in sent1:\r\n",
        "        if w in stopwords:\r\n",
        "            continue\r\n",
        "        vector1[all_words.index(w)] += 1\r\n",
        "\r\n",
        "    # build the vector for the second sentence\r\n",
        "    for w in sent2:\r\n",
        "        if w in stopwords:\r\n",
        "            continue\r\n",
        "        vector2[all_words.index(w)] += 1\r\n",
        "\r\n",
        "    return 1 - cosine_distance(vector1, vector2)\r\n",
        "\r\n",
        "\r\n",
        "def build_similarity_matrix(sentences, stop_words):\r\n",
        "    # Create an empty similarity matrix\r\n",
        "    similarity_matrix = np.zeros((len(sentences), len(sentences)))\r\n",
        "\r\n",
        "    for idx1 in range(len(sentences)):\r\n",
        "        for idx2 in range(len(sentences)):\r\n",
        "            if idx1 == idx2:  # ignore if both are same sentences\r\n",
        "                continue\r\n",
        "            similarity_matrix[idx1][idx2] = sentence_similarity(sentences[idx1], sentences[idx2], stop_words)\r\n",
        "\r\n",
        "    return similarity_matrix\r\n",
        "\r\n",
        "\r\n",
        "def generate_summary(file_name, top_n=5):\r\n",
        "    # nltk.download(\"stopwords\")\r\n",
        "    stop_words = stopwords.words('english')\r\n",
        "    summarize_text = []\r\n",
        "\r\n",
        "    # Step 1 - Read text anc split it\r\n",
        "    sentences = read_article(file_name)\r\n",
        "\r\n",
        "    # Step 2 - Generate Similarity matrix across sentences\r\n",
        "    sentence_similarity_matrix = build_similarity_matrix(sentences, stop_words)\r\n",
        "\r\n",
        "    # Step 3 - Rank sentences in similarity matrix\r\n",
        "    sentence_similarity_graph = nx.from_numpy_array(sentence_similarity_matrix)\r\n",
        "    scores = nx.pagerank(sentence_similarity_graph)\r\n",
        "\r\n",
        "    # Step 4 - Sort the rank and pick top sentences\r\n",
        "    ranked_sentence = sorted(((scores[i], s) for i, s in enumerate(sentences)), reverse=True)\r\n",
        "    # print(\"Indexes of top ranked_sentence order are \", ranked_sentence)\r\n",
        "\r\n",
        "    for i in range(top_n):\r\n",
        "        summarize_text.append(\" \".join(ranked_sentence[i][1]))\r\n",
        "\r\n",
        "    # Step 5 - output the summarize text\r\n",
        "    print(\"Summarize Text: \\n\", \". \".join(summarize_text))\r\n",
        "\r\n",
        "\r\n",
        "if __name__ == \"__main__\":\r\n",
        "\r\n",
        "    file = open('file.txt', 'w')\r\n",
        "    file.write(wiki(\"wikipedia iron man 2\"))\r\n",
        "    file.close()\r\n",
        "    generate_summary(\"file.txt\", 2)\r\n",
        "    os.remove(\"file.txt\")\r\n"
      ],
      "execution_count": 8,
      "outputs": [
        {
          "output_type": "stream",
          "text": [
            "[nltk_data] Downloading package stopwords to /root/nltk_data...\n",
            "[nltk_data]   Unzipping corpora/stopwords.zip.\n",
            "According to Wikipedia, Iron Man is a fictional superhero appearing in American comic books published by Marvel Comics. The character was co-created by writer and editor Stan Lee, developed by scripter Larry Lieber, and designed by artists Don Heck and Jack Kirby. The character made his first appearance in Tales of Suspense #39 (cover dated March 1963), and received his own title in Iron Man #1 (May 1968). Also in 1963, the character founded the Avengers alongside Thor, Ant-Man, Wasp and the Hulk.\n",
            "A wealthy American business magnate, playboy, philanthropist, inventor and ingenious scientist, Anthony Edward \"Tony\" Stark suffers a severe chest injury during a kidnapping. When his captors attempt to force him to build a weapon of mass destruction, he instead creates a mechanized suit of armor to save his life and escape captivity. Later, Stark develops his suit, adding weapons and other technological devices he designed through his company, Stark Industries. He uses the suit and successive versions to protect the world as Iron Man. Although at first concealing his true identity, Stark eventually publicly reveals himself to be Iron Man.\n",
            "Initially, Iron Man was a vehicle for Stan Lee to explore Cold War themes, particularly the role of American technology and industry in the fight against communism.\n",
            "['Iron Man is a fictional superhero appearing in American comic books published by Marvel Comics. The character was co-created by writer and editor Stan Lee, developed by scripter Larry Lieber, and designed by artists Don Heck and Jack Kirby. The character made his first appearance in Tales of Suspense #39 (cover dated March 1963), and received his own title in Iron Man #1 (May 1968). Also in 1963, the character founded the Avengers alongside Thor, Ant-Man, Wasp and the Hulk.\\n', 'A wealthy American business magnate, playboy, philanthropist, inventor and ingenious scientist, Anthony Edward \"Tony\" Stark suffers a severe chest injury during a kidnapping. When his captors attempt to force him to build a weapon of mass destruction, he instead creates a mechanized suit of armor to save his life and escape captivity. Later, Stark develops his suit, adding weapons and other technological devices he designed through his company, Stark Industries. He uses the suit and successive versions to protect the world as Iron Man. Although at first concealing his true identity, Stark eventually publicly reveals himself to be Iron Man.\\n', 'Initially, Iron Man was a vehicle for Stan Lee to explore Cold War themes, particularly the role of American technology and industry in the fight against communism.']\n",
            "Iron Man is a fictional superhero appearing in American comic books published by Marvel Comics\n",
            "The character was co-created by writer and editor Stan Lee, developed by scripter Larry Lieber, and designed by artists Don Heck and Jack Kirby\n",
            "The character made his first appearance in Tales of Suspense #39 (cover dated March 1963), and received his own title in Iron Man #1 (May 1968)\n",
            "Also in 1963, the character founded the Avengers alongside Thor, Ant-Man, Wasp and the Hulk.\n",
            "\n",
            "Summarize Text: \n",
            " The character made his first appearance in Tales of Suspense #39 (cover dated March 1963), and received his own title in Iron Man #1 (May 1968). Iron Man is a fictional superhero appearing in American comic books published by Marvel Comics\n"
          ],
          "name": "stdout"
        }
      ]
    }
  ]
}